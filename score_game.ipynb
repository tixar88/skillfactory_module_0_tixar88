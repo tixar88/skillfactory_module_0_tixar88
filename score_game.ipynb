{
 "cells": [
  {
   "cell_type": "code",
   "execution_count": 1,
   "metadata": {},
   "outputs": [
    {
     "name": "stdout",
     "output_type": "stream",
     "text": [
      "Этот алгоритм угадывает число в среднем за 6 попыток\n"
     ]
    },
    {
     "data": {
      "text/plain": [
       "6"
      ]
     },
     "execution_count": 1,
     "metadata": {},
     "output_type": "execute_result"
    }
   ],
   "source": [
    "import numpy as np\n",
    "\n",
    "def binary_hunting(number):\n",
    "    '''Сначала устанавливаем любое random число, а потом реализуем алгоритм двоичного поиска.\n",
    "       Функция принимает загаданное число и возвращает число попыток.'''\n",
    "    count = 1\n",
    "    low = 1  # нижняя граница последовательности чисел\n",
    "    high = 100  # верхняя граница последовательности чисел\n",
    "    predict = np.random.randint(1, 101)\n",
    "\n",
    "    while number != predict:\n",
    "        count += 1\n",
    "        if number > predict:\n",
    "            high = number - 1\n",
    "        else:\n",
    "            low = number + 1\n",
    "        number = (low + high) // 2  # вычисляется средний элемент последовательности чисел, в которой ищем\n",
    "\n",
    "    return (count)\n",
    "\n",
    "\n",
    "def score_game(binary_hunting):\n",
    "    '''Запускаем игру 1000 раз, чтобы узнать, как быстро игра угадывает число'''\n",
    "    count_ls = []\n",
    "    np.random.seed(1)  # фиксируем RANDOM SEED, чтобы эксперимент был воспроизводим!\n",
    "    random_array = np.random.randint(1, 101, size=(1000))\n",
    "\n",
    "    for number in random_array:\n",
    "        count_ls.append(binary_hunting(number))\n",
    "    score = int(np.mean(count_ls))\n",
    "    print(f\"Этот алгоритм угадывает число в среднем за {score} попыток\")\n",
    "\n",
    "    return (score)\n",
    "\n",
    "\n",
    "score_game(binary_hunting)"
   ]
  },
  {
   "cell_type": "code",
   "execution_count": null,
   "metadata": {},
   "outputs": [],
   "source": []
  }
 ],
 "metadata": {
  "kernelspec": {
   "display_name": "Python 3",
   "language": "python",
   "name": "python3"
  },
  "language_info": {
   "codemirror_mode": {
    "name": "ipython",
    "version": 3
   },
   "file_extension": ".py",
   "mimetype": "text/x-python",
   "name": "python",
   "nbconvert_exporter": "python",
   "pygments_lexer": "ipython3",
   "version": "3.8.5"
  }
 },
 "nbformat": 4,
 "nbformat_minor": 4
}
